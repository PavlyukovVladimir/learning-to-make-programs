{
 "cells": [
  {
   "cell_type": "code",
   "execution_count": 1,
   "metadata": {},
   "outputs": [],
   "source": [
    "#Павлюков В.В. 501И\n",
    "#быстрая сортировка с функцией сравнения"
   ]
  },
  {
   "cell_type": "code",
   "execution_count": 2,
   "metadata": {},
   "outputs": [],
   "source": [
    "import random\n",
    "def quicksort(nums,fun):\n",
    "    \"\"\"рекурсивная быстрая сортировка, для определения n < q использует fun(n,q)\"\"\"\n",
    "    if len(nums) <= 1:\n",
    "        return nums\n",
    "    else:\n",
    "        q = random.choice(nums)\n",
    "        l_nums = [n for n in nums if fun(n,q)]#список элементов меньше q\n",
    "        e_nums = [n for n in nums if ((not fun(n,q)) and (not fun(q,n)))]#список элементов одинакового порядка с q\n",
    "                                                                         #т.е. не больше и не меньше q\n",
    "        b_nums = [n for n in nums if fun(q,n)]##список элементов больше q\n",
    "    return quicksort(l_nums,fun) + e_nums + quicksort(b_nums,fun)"
   ]
  },
  {
   "cell_type": "code",
   "execution_count": 3,
   "metadata": {},
   "outputs": [
    {
     "name": "stdout",
     "output_type": "stream",
     "text": [
      "[1, 1, 2, 3, 3, 5, 10]\n"
     ]
    }
   ],
   "source": [
    "nums=[1,2,5,3,10,1,3]\n",
    "def fun(n,q):\n",
    "    \"\"\"функциональный эквивалент оператору <\"\"\"\n",
    "    return n<q\n",
    "print(quicksort(nums,fun))"
   ]
  },
  {
   "cell_type": "code",
   "execution_count": 4,
   "metadata": {},
   "outputs": [
    {
     "name": "stdout",
     "output_type": "stream",
     "text": [
      "[[2, 1], [1, 1], [1, 1, 1, 3, 4], [1, 2], [2, 2], [2, 3, 4, 5], ['a', 4, 'rules']]\n"
     ]
    }
   ],
   "source": [
    "num=[[1,2],[2,1],[2,2],[1,1],[1,1,1,3,4],[2,3,4,5],[\"a\",4,\"rules\"]]\n",
    "def fun2(l,r):\n",
    "    \"\"\"сравнивает списки, сравнивая их 2-е элементы\"\"\"\n",
    "    return l[1] < r[1]\n",
    "print(quicksort(num,fun2))"
   ]
  },
  {
   "cell_type": "code",
   "execution_count": 5,
   "metadata": {},
   "outputs": [
    {
     "name": "stdout",
     "output_type": "stream",
     "text": [
      "[[1, 1], [1, 1, 1, 3, 4], [1, 2], [2, 1], [2, 2], [2, 3, 4, 5], [0, 4, 'rules']]\n"
     ]
    }
   ],
   "source": [
    "num=[[1,2],[2,1],[2,2],[1,1],[1,1,1,3,4],[2,3,4,5],[0,4,\"rules\"]]\n",
    "def fun3(l,r):\n",
    "    \"\"\"сравнивает списки, по расстоянию от начала 2D координат, считая первые 2 элемента координатами\"\"\"\n",
    "    return (l[0]*l[0]+l[1]*l[1]) < (r[0]*r[0]+r[1]*r[1])\n",
    "print(quicksort(num,fun3))"
   ]
  }
 ],
 "metadata": {
  "kernelspec": {
   "display_name": "Python 3",
   "language": "python",
   "name": "python3"
  },
  "language_info": {
   "codemirror_mode": {
    "name": "ipython",
    "version": 3
   },
   "file_extension": ".py",
   "mimetype": "text/x-python",
   "name": "python",
   "nbconvert_exporter": "python",
   "pygments_lexer": "ipython3",
   "version": "3.6.5"
  }
 },
 "nbformat": 4,
 "nbformat_minor": 2
}
